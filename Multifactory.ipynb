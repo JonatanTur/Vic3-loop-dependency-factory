{
  "nbformat": 4,
  "nbformat_minor": 0,
  "metadata": {
    "colab": {
      "provenance": [],
      "mount_file_id": "1iXZgDW0Qosbrav-lG6lV78fqrttZGcP0",
      "authorship_tag": "ABX9TyPZtipJm2xGmlKB/3dWgctm",
      "include_colab_link": true
    },
    "kernelspec": {
      "name": "python3",
      "display_name": "Python 3"
    },
    "language_info": {
      "name": "python"
    }
  },
  "cells": [
    {
      "cell_type": "markdown",
      "metadata": {
        "id": "view-in-github",
        "colab_type": "text"
      },
      "source": [
        "<a href=\"https://colab.research.google.com/github/JonatanTur/Vic3-loop-dependency-factory/blob/main/Multifactory.ipynb\" target=\"_parent\"><img src=\"https://colab.research.google.com/assets/colab-badge.svg\" alt=\"Open In Colab\"/></a>"
      ]
    },
    {
      "cell_type": "code",
      "source": [
        "from math import ceil"
      ],
      "metadata": {
        "id": "qxROZnRIrK9s"
      },
      "execution_count": 1,
      "outputs": []
    },
    {
      "cell_type": "code",
      "execution_count": 2,
      "metadata": {
        "id": "N2s0oBhulDYX"
      },
      "outputs": [],
      "source": [
        "class Building:\n",
        "  def __init__(self, name, inputs:dict, outputs:dict, workers):\n",
        "    self.name = name\n",
        "    self.inputs = inputs\n",
        "    self.outputs = outputs\n",
        "    self.workers = workers"
      ]
    },
    {
      "cell_type": "code",
      "source": [
        "buildings = []\n",
        "to_build = {}"
      ],
      "metadata": {
        "id": "AAl-gasQpN8r"
      },
      "execution_count": 3,
      "outputs": []
    },
    {
      "cell_type": "code",
      "source": [
        "#Buildings\n",
        "Steelmill = Building(name=\"Steelmill\",inputs={\"iron\":50, \"coal\":10}, outputs={\"steel\":80}, workers=5000)\n",
        "buildings.append(Steelmill)\n",
        "\n",
        "Mine = Building(\"Mine\",{\"steel\":10}, {\"iron\":25, \"coal\":5}, 1000)\n",
        "buildings.append(Mine)"
      ],
      "metadata": {
        "id": "0PkjjYPKmbk8"
      },
      "execution_count": 4,
      "outputs": []
    },
    {
      "cell_type": "code",
      "source": [
        "needed = {}\n",
        "surplus = {}\n",
        "workers = 0"
      ],
      "metadata": {
        "id": "KMZ2raUCn_DM"
      },
      "execution_count": 6,
      "outputs": []
    },
    {
      "cell_type": "code",
      "source": [
        "print(type(needed),\n",
        "type(surplus),\n",
        "type(to_build))"
      ],
      "metadata": {
        "colab": {
          "base_uri": "https://localhost:8080/"
        },
        "id": "xd6Ek7HD4aWy",
        "outputId": "78b15d09-b1d4-4fcd-95bb-d8cdac94fb59"
      },
      "execution_count": 7,
      "outputs": [
        {
          "output_type": "stream",
          "name": "stdout",
          "text": [
            "<class 'dict'> <class 'dict'> <class 'dict'>\n"
          ]
        }
      ]
    },
    {
      "cell_type": "code",
      "source": [
        "def construct(output):\n",
        "  global needed, surplus, buildings, to_build\n",
        "\n",
        "  for resource, amount in output.items():\n",
        "    needed[resource] = amount\n",
        "  while any(amount > 0 for amount in needed.values()):\n",
        "    for resource in list(needed.keys()):\n",
        "      if resource in list(surplus.keys()) and surplus[resource] > 0:\n",
        "        if surplus[resource] >= needed[resource]:\n",
        "          surplus[resource] -= needed[resource]\n",
        "          needed[resource] = 0\n",
        "        else:\n",
        "          needed[resource] -= surplus[resource]\n",
        "          surplus[resource] = 0\n",
        "\n",
        "      if needed[resource] > 0:\n",
        "        for bld in buildings:\n",
        "          if resource in bld.outputs:\n",
        "            needed_quantity = needed[resource]\n",
        "            singular_bld_rsc_quantity = bld.outputs[resource]\n",
        "            blds_to_build = ceil(needed_quantity/ singular_bld_rsc_quantity)\n",
        "\n",
        "            to_build[bld.name] = to_build.get(bld.name, 0) + blds_to_build\n",
        "            workers += bld.workers * blds_to_build\n",
        "\n",
        "\n",
        "            for res, quan in bld.outputs.items():\n",
        "               produced = quan * blds_to_build\n",
        "\n",
        "               if res in needed:\n",
        "                 if produced >= needed[res]:\n",
        "                   surplus[res] = surplus.get(res, 0) + (produced - needed[res])\n",
        "                   needed[res] = 0\n",
        "                 else:\n",
        "                   needed[res] -= produced\n",
        "               else:\n",
        "                   surplus[res] = surplus.get(res, 0) + produced\n",
        "\n",
        "            for res, quan in bld.inputs.items():\n",
        "               needed[res] = needed.get(res, 0) + quan * blds_to_build\n",
        "            print('we need: ',needed,\"\\n we have too much:\",surplus)\n",
        "            break"
      ],
      "metadata": {
        "id": "y-HFNCXUocAB"
      },
      "execution_count": 8,
      "outputs": []
    },
    {
      "cell_type": "code",
      "source": [
        "construct({\"steel\": 800})\n",
        "print(to_build, \"\\n\\n\", needed, surplus)"
      ],
      "metadata": {
        "colab": {
          "base_uri": "https://localhost:8080/"
        },
        "id": "8FBHt2300bZ8",
        "outputId": "0535125b-18c2-45d9-92f8-fb392cb12123"
      },
      "execution_count": 9,
      "outputs": [
        {
          "output_type": "stream",
          "name": "stdout",
          "text": [
            "we need:  {'steel': 0, 'iron': 500, 'coal': 100} \n",
            " we have too much: {'steel': 0}\n",
            "we need:  {'steel': 200, 'iron': 0, 'coal': 0} \n",
            " we have too much: {'steel': 0, 'iron': 0, 'coal': 0}\n",
            "we need:  {'steel': 0, 'iron': 150, 'coal': 30} \n",
            " we have too much: {'steel': 40, 'iron': 0, 'coal': 0}\n",
            "we need:  {'steel': 60, 'iron': 0, 'coal': 0} \n",
            " we have too much: {'steel': 40, 'iron': 0, 'coal': 0}\n",
            "we need:  {'steel': 0, 'iron': 50, 'coal': 10} \n",
            " we have too much: {'steel': 60, 'iron': 0, 'coal': 0}\n",
            "we need:  {'steel': 20, 'iron': 0, 'coal': 0} \n",
            " we have too much: {'steel': 60, 'iron': 0, 'coal': 0}\n",
            "{'Steelmill': 14, 'Mine': 28} \n",
            "\n",
            " {'steel': 0, 'iron': 0, 'coal': 0} {'steel': 40, 'iron': 0, 'coal': 0}\n"
          ]
        }
      ]
    }
  ]
}