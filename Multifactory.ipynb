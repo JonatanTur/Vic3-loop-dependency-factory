{
  "nbformat": 4,
  "nbformat_minor": 0,
  "metadata": {
    "colab": {
      "provenance": [],
      "mount_file_id": "1iXZgDW0Qosbrav-lG6lV78fqrttZGcP0",
      "authorship_tag": "ABX9TyOrFCaJ/QNAmCeTD+//cIhp",
      "include_colab_link": true
    },
    "kernelspec": {
      "name": "python3",
      "display_name": "Python 3"
    },
    "language_info": {
      "name": "python"
    }
  },
  "cells": [
    {
      "cell_type": "markdown",
      "metadata": {
        "id": "view-in-github",
        "colab_type": "text"
      },
      "source": [
        "<a href=\"https://colab.research.google.com/github/JonatanTur/Vic3-loop-dependency-factory/blob/main/Multifactory.ipynb\" target=\"_parent\"><img src=\"https://colab.research.google.com/assets/colab-badge.svg\" alt=\"Open In Colab\"/></a>"
      ]
    },
    {
      "cell_type": "code",
      "source": [
        "from math import ceil"
      ],
      "metadata": {
        "id": "qxROZnRIrK9s"
      },
      "execution_count": 23,
      "outputs": []
    },
    {
      "cell_type": "code",
      "source": [
        "configs= {\n",
        "    \"Food_Industries\":[3,3,2,1]\n",
        "}"
      ],
      "metadata": {
        "id": "yiLpahkBbndn"
      },
      "execution_count": 24,
      "outputs": []
    },
    {
      "cell_type": "code",
      "execution_count": 25,
      "metadata": {
        "id": "N2s0oBhulDYX"
      },
      "outputs": [],
      "source": [
        "class Building:\n",
        "  def __init__(self, name, base_production:dict, second_production=None, luxury_production=None,\n",
        "               automation_production=None, train_production=None):\n",
        "    global configs\n",
        "    self.name = name\n",
        "    self.production_types = [base_production, second_production, luxury_production, automation_production, train_production]\n",
        "    self.building_config = configs.get(name, [])\n",
        "\n",
        "    inputs = {}\n",
        "    outputs = {}\n",
        "    workers = 0\n",
        "    for prodtype_list_num, prod_meth_num in enumerate(self.building_config):\n",
        "        production_type = self.production_types[prodtype_list_num]\n",
        "        if production_type != None:\n",
        "            for resource, quantity in production_type[prod_meth_num][\"Input\"].items():\n",
        "                inputs[resource] = inputs.get(resource, 0) + quantity\n",
        "            for resource, quantity in production_type[prod_meth_num][\"Output\"].items():\n",
        "                outputs[resource] = outputs.get(resource, 0) + quantity\n",
        "            workers += production_type[prod_meth_num][\"Workers\"]\n",
        "\n",
        "    self.inputs = inputs\n",
        "    self.outputs = outputs\n",
        "    self.workers = workers\n",
        "\n",
        "\n",
        "\n"
      ]
    },
    {
      "cell_type": "code",
      "source": [
        "Food_Industries = Building(name=\"Food_Industries\",\n",
        "                          base_production= {1:{\"Input\":{\"grain\":40},\n",
        "                                               \"Output\":{\"food\":45},\n",
        "                                               \"Workers\":5000},\n",
        "                                            2:{\"Input\":{\"grain\":40, \"sugar\":15},\n",
        "                                               \"Output\":{\"food\":65},\n",
        "                                               \"Workers\":5000},\n",
        "                                            3:{\"Input\":{\"grain\":80, \"sugar\":30},\n",
        "                                               \"Output\":{\"food\":120},\n",
        "                                               \"Workers\":5000},\n",
        "                                            },\n",
        "                          second_production= {1:{\"Input\":{},\n",
        "                                               \"Output\":{},\n",
        "                                               \"Workers\":0},\n",
        "                                            2:{\"Input\":{\"iron\":10, \"grain\":-20, \"meat\":20},\n",
        "                                               \"Output\":{\"Food\":30},\n",
        "                                               \"Workers\":500},\n",
        "                                            3:{\"Input\":{\"iron\":10, \"grain\":-20, \"fish\":30},\n",
        "                                               \"Output\":{\"Food\":30},\n",
        "                                               \"Workers\":500},\n",
        "                                            4:{\"Input\":{\"iron\":10,\"oil\":5, \"grain\":-30, \"fish\":30,\"meat\":20 },\n",
        "                                               \"Output\":{\"Food\":60},\n",
        "                                               \"Workers\":700},\n",
        "                                            },\n",
        "                          luxury_production={1:{\"Input\":{},\n",
        "                                               \"Output\":{},\n",
        "                                               \"Workers\":0},\n",
        "                                             2:{\"Input\":{\"sugar\":25},\n",
        "                                               \"Output\":{\"alcohol\":60, \"food\":-30},\n",
        "                                               \"Workers\":350},\n",
        "                                             3:{\"Input\":{\"glass\":10, \"sugar\":25},\n",
        "                                               \"Output\":{\"alcohol\":100, \"food\":-40},\n",
        "                                               \"Workers\":900},\n",
        "                                            },\n",
        "                          automation_production={1:{\"Input\":{},\n",
        "                                               \"Output\":{},\n",
        "                                               \"Workers\":0},\n",
        "                                                 2:{\"Input\":{\"tools\":10},\n",
        "                                               \"Output\":{},\n",
        "                                               \"Workers\":-2500}\n",
        "                                                }\n",
        "                          )\n",
        "Textile_Industries = Building(name=\"Textile_Industries\",\n",
        "                          base_production= {1:{\"Input\":{\"fabric\":40},\n",
        "                                               \"Output\":{\"clothes\":45},\n",
        "                                               \"Workers\":5000},\n",
        "                                            2:{\"Input\":{\"fabric\":40, \"dye\":5},\n",
        "                                               \"Output\":{\"clothes\":60},\n",
        "                                               \"Workers\":5000},\n",
        "                                            3:{\"Input\":{\"fabric\":60, \"dye\":10, \"tools\":5},\n",
        "                                               \"Output\":{\"clothes\":60},\n",
        "                                               \"Workers\":5000},\n",
        "                                            4:{\"Input\":{\"fabric\":60, \"dye\":20, \"tools\":10, \"electricity\":10},\n",
        "                                               \"Output\":{\"clothes\":140},\n",
        "                                               \"Workers\":5000},\n",
        "                                            },\n",
        "                          luxury_production={1:{\"Input\":{},\n",
        "                                               \"Output\":{},\n",
        "                                               \"Workers\":0},\n",
        "                                             2:{\"Input\":{\"silk\":15, \"fabric\":-15},\n",
        "                                               \"Output\":{\"clothes\":-30, \"luxury_clothes\":30},\n",
        "                                               \"Workers\":500},\n",
        "                                             3:{\"Input\":{\"silk\":35, \"fabric\":-35, \"rubber\":10},\n",
        "                                               \"Output\":{\"clothes\":-70, \"luxury_clothes\":70},\n",
        "                                               \"Workers\":1000}\n",
        "                                            }\n",
        "                        automation_production={1:{\"Input\":{},\n",
        "                                               \"Output\":{},\n",
        "                                               \"Workers\":0},\n",
        "                                               2:{\"Input\":{\"tools\":5},\n",
        "                                               \"Output\":{},\n",
        "                                               \"Workers\":-1500},\n",
        "                                               3:{\"Input\":{\"tools\":5, \"electricity\":10},\n",
        "                                               \"Output\":{},\n",
        "                                               \"Workers\":-2500}\n",
        "                                                }\n",
        "                              )\n",
        "Furniture_Manufacturies = Building(name=\"Furniture_Manufacturies\",\n",
        "                                   base_production= {1:{\"Input\":{\"wood\":30, \"fabric\":10},\n",
        "                                                    \"Output\":{\"furniture\":45},\n",
        "                                                    \"Workers\":5000},\n",
        "                                                     2:{\"Input\":{\"wood\":30, \"fabric\":10, \"tools\":5},\n",
        "                                                    \"Output\":{\"furniture\":65},\n",
        "                                                    \"Workers\":5000},\n",
        "                                                     3:{\"Input\":{\"wood\":50, \"fabric\":10, \"tools\":10},\n",
        "                                                    \"Output\":{\"furniture\":110},\n",
        "                                                    \"Workers\":5000},\n",
        "                                                    },\n",
        "                                   luxury_production={1:{\"Input\":{},\n",
        "                                                    \"Output\":{},\n",
        "                                                    \"Workers\":0},\n",
        "                                                      2:{\"Input\":{\"wood\":-15, \"desks\":15},\n",
        "                                                        \"Output\":{\"furniture\":-25, \"luxury_furniture\":25},\n",
        "                                                        \"Workers\":500},\n",
        "                                                      3:{\"Input\":{\"wood\":-25, \"desks\":25, \"tools\":10},\n",
        "                                                        \"Output\":{\"furniture\":-55, \"luxury_furniture\":55},\n",
        "                                                        \"Workers\":500}\n",
        "                                                    },\n",
        "                                   automation_production={1:{\"Input\":{},\n",
        "                                                    \"Output\":{},\n",
        "                                                    \"Workers\":0},\n",
        "                                                    2:{\"Input\":{\"tools\":5, \"coal\":5},\n",
        "                                                    \"Output\":{},\n",
        "                                                    \"Workers\":-1500},\n",
        "                                                    3:{\"Input\":{\"tools\":5, \"coal\":10},\n",
        "                                                    \"Output\":{},\n",
        "                                                    \"Workers\":-2000},\n",
        "                                                    4:{\"Input\":{\"tools\":5, \"oil\":5, \"electricity\":5},\n",
        "                                                    \"Output\":{},\n",
        "                                                    \"Workers\":-3000}\n",
        "                                                    })\n",
        "\n",
        "Glassworks = Building(name=\"Glassworks\",\n",
        "                      base_production= {1:{\"Input\":{\"wood\":30},\n",
        "                                               \"Output\":{\"glass\":30},\n",
        "                                               \"Workers\":5000},\n",
        "                                            2:{\"Input\":{\"wood\":30, \"lead\":10},\n",
        "                                               \"Output\":{\"clothes\":60},\n",
        "                                               \"Workers\":5000},\n",
        "                                            3:{\"Input\":{\"fabric\":60, \"dye\":10, \"tools\":5},\n",
        "                                               \"Output\":{\"clothes\":60},\n",
        "                                               \"Workers\":5000},\n",
        "                                            4:{\"Input\":{\"fabric\":60, \"dye\":20, \"tools\":10, \"electricity\":10},\n",
        "                                               \"Output\":{\"clothes\":140},\n",
        "                                               \"Workers\":5000},\n",
        "                                        })"
      ],
      "metadata": {
        "id": "b72lVW9fWRJt"
      },
      "execution_count": 26,
      "outputs": []
    },
    {
      "cell_type": "markdown",
      "source": [],
      "metadata": {
        "id": "GOIkH_jX2fe-"
      }
    },
    {
      "cell_type": "markdown",
      "source": [],
      "metadata": {
        "id": "W88jPf04aqsw"
      }
    },
    {
      "cell_type": "code",
      "source": [
        "buildings = []\n",
        "to_build = {}"
      ],
      "metadata": {
        "id": "AAl-gasQpN8r"
      },
      "execution_count": 27,
      "outputs": []
    },
    {
      "cell_type": "code",
      "source": [
        "needed = {}\n",
        "surplus = {}\n",
        "workers = 0"
      ],
      "metadata": {
        "id": "KMZ2raUCn_DM"
      },
      "execution_count": null,
      "outputs": []
    },
    {
      "cell_type": "code",
      "source": [
        "print(type(needed),\n",
        "type(surplus),\n",
        "type(to_build))"
      ],
      "metadata": {
        "id": "xd6Ek7HD4aWy"
      },
      "execution_count": null,
      "outputs": []
    },
    {
      "cell_type": "code",
      "source": [
        "def construct(output):\n",
        "  global needed, surplus, buildings, to_build\n",
        "\n",
        "  for resource, amount in output.items():\n",
        "    needed[resource] = amount\n",
        "  while any(amount > 0 for amount in needed.values()):\n",
        "    for resource in list(needed.keys()):\n",
        "      if resource in list(surplus.keys()) and surplus[resource] > 0:\n",
        "        if surplus[resource] >= needed[resource]:\n",
        "          surplus[resource] -= needed[resource]\n",
        "          needed[resource] = 0\n",
        "        else:\n",
        "          needed[resource] -= surplus[resource]\n",
        "          surplus[resource] = 0\n",
        "\n",
        "      if needed[resource] > 0:\n",
        "        for bld in buildings:\n",
        "          if resource in bld.outputs:\n",
        "            needed_quantity = needed[resource]\n",
        "            singular_bld_rsc_quantity = bld.outputs[resource]\n",
        "            blds_to_build = ceil(needed_quantity/ singular_bld_rsc_quantity)\n",
        "\n",
        "            to_build[bld.name] = to_build.get(bld.name, 0) + blds_to_build\n",
        "            workers += bld.workers * blds_to_build\n",
        "\n",
        "\n",
        "            for res, quan in bld.outputs.items():\n",
        "               produced = quan * blds_to_build\n",
        "\n",
        "               if res in needed:\n",
        "                 if produced >= needed[res]:\n",
        "                   surplus[res] = surplus.get(res, 0) + (produced - needed[res])\n",
        "                   needed[res] = 0\n",
        "                 else:\n",
        "                   needed[res] -= produced\n",
        "               else:\n",
        "                   surplus[res] = surplus.get(res, 0) + produced\n",
        "\n",
        "            for res, quan in bld.inputs.items():\n",
        "               needed[res] = needed.get(res, 0) + quan * blds_to_build\n",
        "            print('we need: ',needed,\"\\n we have too much:\",surplus)\n",
        "            break"
      ],
      "metadata": {
        "id": "y-HFNCXUocAB"
      },
      "execution_count": null,
      "outputs": []
    },
    {
      "cell_type": "code",
      "source": [
        "construct({\"steel\": 800})\n",
        "print(to_build, \"\\n\\n\", needed, surplus)"
      ],
      "metadata": {
        "id": "8FBHt2300bZ8"
      },
      "execution_count": null,
      "outputs": []
    }
  ]
}